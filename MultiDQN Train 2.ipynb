{
 "cells": [
  {
   "cell_type": "code",
   "execution_count": 1,
   "metadata": {},
   "outputs": [],
   "source": [
    "from gym import Env\n",
    "from gym.spaces import Discrete, Box\n",
    "import numpy as np\n",
    "import random\n",
    "import tensorflow as tf\n",
    "from tensorflow.keras.models import Sequential\n",
    "from tensorflow.keras.layers import Dense, Flatten, Conv2D, Conv1D, Activation, MaxPooling2D, MaxPooling1D, Dropout\n",
    "from tensorflow.keras.optimizers import Adam\n",
    "import time"
   ]
  },
  {
   "cell_type": "code",
   "execution_count": 2,
   "metadata": {
    "pycharm": {
     "name": "#%%\n"
    }
   },
   "outputs": [
    {
     "name": "stdout",
     "output_type": "stream",
     "text": [
      "pygame 2.1.2 (SDL 2.0.16, Python 3.8.10)\n",
      "Hello from the pygame community. https://www.pygame.org/contribute.html\n",
      "Python version 3.8.10 (default, Nov 26 2021, 20:14:08) \n",
      "[GCC 9.3.0]\n"
     ]
    }
   ],
   "source": [
    "from pygameMultibot2 import GameWindow"
   ]
  },
  {
   "cell_type": "code",
   "execution_count": 3,
   "metadata": {
    "pycharm": {
     "name": "#%%\n"
    }
   },
   "outputs": [],
   "source": [
    "class Warehouse(Env):\n",
    "    #metadata = {'render.modes' : ['human']}\n",
    "    def __init__(self):\n",
    "        self.pygame = GameWindow(0,5,0)\n",
    "        self.action_space = Discrete(64)\n",
    "        self.observation_space = Box(low=0, high=6, shape=(11,11,2))\n",
    "\n",
    "    def reset(self):\n",
    "        del self.pygame\n",
    "        self.pygame = GameWindow(0,5,0)\n",
    "        obs = self.pygame.observe()\n",
    "        return obs\n",
    "\n",
    "    def step(self, action):\n",
    "        self.pygame.action(action)\n",
    "        obs = self.pygame.observe()\n",
    "        reward = self.pygame.evaluate()\n",
    "        done = self.pygame.is_done()\n",
    "        # print(obs)\n",
    "        # time.sleep(0.02)\n",
    "        return obs, reward, done, {}\n",
    "\n",
    "    def render(self, mode=\"human\", close=False):\n",
    "        #time.sleep(0.05)\n",
    "        self.pygame.view1()"
   ]
  },
  {
   "cell_type": "code",
   "execution_count": 4,
   "metadata": {
    "pycharm": {
     "name": "#%%\n"
    }
   },
   "outputs": [],
   "source": [
    "env = Warehouse()"
   ]
  },
  {
   "cell_type": "code",
   "execution_count": 5,
   "metadata": {
    "pycharm": {
     "name": "#%%\n"
    }
   },
   "outputs": [],
   "source": [
    "states = env.observation_space.shape\n",
    "actions = env.action_space.n"
   ]
  },
  {
   "cell_type": "code",
   "execution_count": 6,
   "metadata": {
    "pycharm": {
     "name": "#%%\n"
    }
   },
   "outputs": [
    {
     "data": {
      "text/plain": [
       "array([[[1.2816148 , 4.348434  ],\n",
       "        [0.8466811 , 5.3338513 ],\n",
       "        [4.799029  , 2.1995282 ],\n",
       "        [1.56701   , 2.8227284 ],\n",
       "        [5.2789655 , 0.88725173],\n",
       "        [5.7114263 , 2.077309  ],\n",
       "        [5.342884  , 2.448163  ],\n",
       "        [5.408902  , 1.4364749 ],\n",
       "        [3.6167743 , 1.6063464 ],\n",
       "        [4.5195923 , 1.7682765 ],\n",
       "        [0.18139209, 5.0170603 ]],\n",
       "\n",
       "       [[4.493688  , 3.4493682 ],\n",
       "        [3.2898126 , 3.8720558 ],\n",
       "        [2.3728876 , 0.10472283],\n",
       "        [1.4123354 , 2.8357337 ],\n",
       "        [1.0432673 , 3.535502  ],\n",
       "        [2.0238214 , 5.2661066 ],\n",
       "        [4.501694  , 3.5871546 ],\n",
       "        [4.427322  , 3.5345576 ],\n",
       "        [3.5345268 , 4.402026  ],\n",
       "        [5.9112997 , 0.76401544],\n",
       "        [3.449539  , 5.9043984 ]],\n",
       "\n",
       "       [[2.7919343 , 4.4004135 ],\n",
       "        [2.266243  , 3.6357484 ],\n",
       "        [3.173887  , 2.6054668 ],\n",
       "        [5.934462  , 4.185611  ],\n",
       "        [0.37518668, 1.732787  ],\n",
       "        [1.4076844 , 0.76547104],\n",
       "        [4.5306554 , 0.75471973],\n",
       "        [1.1874956 , 5.9535856 ],\n",
       "        [2.495874  , 4.9387627 ],\n",
       "        [3.2178197 , 4.7159147 ],\n",
       "        [0.20140819, 2.3123412 ]],\n",
       "\n",
       "       [[4.9142504 , 3.7889204 ],\n",
       "        [3.9541337 , 4.265655  ],\n",
       "        [3.3534005 , 1.8524628 ],\n",
       "        [0.8838591 , 5.3649917 ],\n",
       "        [0.9332006 , 3.2545786 ],\n",
       "        [2.754604  , 2.855021  ],\n",
       "        [5.3405952 , 1.064063  ],\n",
       "        [3.8062725 , 5.105962  ],\n",
       "        [1.3906103 , 3.654914  ],\n",
       "        [0.6058231 , 2.6729705 ],\n",
       "        [1.6378375 , 2.8946223 ]],\n",
       "\n",
       "       [[0.7878271 , 3.6194367 ],\n",
       "        [4.446725  , 2.2170513 ],\n",
       "        [5.4996367 , 0.02360057],\n",
       "        [1.4244198 , 1.5779705 ],\n",
       "        [1.2748252 , 2.75016   ],\n",
       "        [5.6485696 , 5.917195  ],\n",
       "        [3.549524  , 4.6402225 ],\n",
       "        [4.1716285 , 3.2150254 ],\n",
       "        [2.2968836 , 1.7346047 ],\n",
       "        [0.4554948 , 5.3982015 ],\n",
       "        [2.5603845 , 0.8942559 ]],\n",
       "\n",
       "       [[2.2055967 , 0.75321305],\n",
       "        [2.7678375 , 2.842982  ],\n",
       "        [3.618822  , 2.0917854 ],\n",
       "        [2.4567504 , 3.0513637 ],\n",
       "        [1.9107515 , 4.645326  ],\n",
       "        [1.8300788 , 5.281478  ],\n",
       "        [1.230272  , 4.88453   ],\n",
       "        [1.2379936 , 1.5092553 ],\n",
       "        [1.1770422 , 1.7610058 ],\n",
       "        [1.6509969 , 3.7344224 ],\n",
       "        [3.6917458 , 3.4952877 ]],\n",
       "\n",
       "       [[4.271723  , 1.0172952 ],\n",
       "        [3.5953689 , 5.4529963 ],\n",
       "        [5.228475  , 4.2293534 ],\n",
       "        [4.139047  , 4.954652  ],\n",
       "        [3.6278584 , 4.5468698 ],\n",
       "        [4.9793262 , 4.306446  ],\n",
       "        [5.899457  , 3.0290883 ],\n",
       "        [4.315609  , 2.8183808 ],\n",
       "        [0.6992859 , 2.5922925 ],\n",
       "        [0.531874  , 2.9263184 ],\n",
       "        [1.766379  , 0.48407996]],\n",
       "\n",
       "       [[0.3618223 , 3.0702474 ],\n",
       "        [5.2836685 , 4.6737356 ],\n",
       "        [3.2268827 , 5.280536  ],\n",
       "        [1.009673  , 1.1084493 ],\n",
       "        [2.6921804 , 5.24948   ],\n",
       "        [0.76440525, 0.74959695],\n",
       "        [1.9480507 , 4.869899  ],\n",
       "        [0.93174356, 4.5487633 ],\n",
       "        [1.2473209 , 3.4187586 ],\n",
       "        [3.9584408 , 2.4333806 ],\n",
       "        [4.5223894 , 3.7169757 ]],\n",
       "\n",
       "       [[1.0398442 , 2.4288213 ],\n",
       "        [2.3391316 , 1.153156  ],\n",
       "        [4.8789124 , 5.692247  ],\n",
       "        [0.27614394, 0.44731182],\n",
       "        [3.332292  , 4.7147117 ],\n",
       "        [1.1802535 , 3.523661  ],\n",
       "        [1.4549778 , 5.0567703 ],\n",
       "        [2.2759216 , 2.8538175 ],\n",
       "        [2.5417373 , 1.139548  ],\n",
       "        [0.33903983, 4.6439223 ],\n",
       "        [1.5076612 , 2.0062022 ]],\n",
       "\n",
       "       [[0.76607656, 3.213855  ],\n",
       "        [1.421073  , 3.8923514 ],\n",
       "        [4.9117517 , 1.2709688 ],\n",
       "        [3.8130057 , 0.9083298 ],\n",
       "        [1.540049  , 5.0117226 ],\n",
       "        [5.5397086 , 3.1026282 ],\n",
       "        [0.0260602 , 1.5916873 ],\n",
       "        [0.43903   , 5.501196  ],\n",
       "        [3.0781245 , 3.6546032 ],\n",
       "        [4.4362173 , 4.667903  ],\n",
       "        [0.3455259 , 3.0135121 ]],\n",
       "\n",
       "       [[4.8087587 , 2.070077  ],\n",
       "        [1.3128395 , 1.1143024 ],\n",
       "        [1.9468659 , 2.9578028 ],\n",
       "        [4.9259477 , 4.5351624 ],\n",
       "        [4.5843306 , 3.416279  ],\n",
       "        [5.6710844 , 0.37419158],\n",
       "        [3.0351844 , 5.0667906 ],\n",
       "        [2.6718671 , 1.1994252 ],\n",
       "        [2.7670546 , 1.5062335 ],\n",
       "        [3.7479587 , 2.9737217 ],\n",
       "        [1.9859896 , 3.698893  ]]], dtype=float32)"
      ]
     },
     "execution_count": 6,
     "metadata": {},
     "output_type": "execute_result"
    }
   ],
   "source": [
    "env.observation_space.sample()"
   ]
  },
  {
   "cell_type": "code",
   "execution_count": 7,
   "metadata": {
    "pycharm": {
     "name": "#%%\n"
    }
   },
   "outputs": [],
   "source": [
    "def build_model():\n",
    "    model = Sequential()\n",
    "    model.add(tf.keras.layers.Reshape((11,11,2), input_shape=(1,11,11,2)))\n",
    "    model.add(Conv2D(32, (3,3),strides=(1, 1),activation='relu'))  # OBSERVATION_SPACE_VALUES = (10, 10, 3) a 10x10 RGB image.\n",
    "    # model.add(Activation('relu'))\n",
    "    # model.add(MaxPooling2D(pool_size=(2,2)))\n",
    "    # model.add(Dropout(0.2))\n",
    "\n",
    "    model.add(Conv2D(64, (3,3),strides=(1, 1),activation='relu'))\n",
    "    model.add(Conv2D(64, (3,3),strides=(1, 1),activation='relu'))\n",
    "    # model.add(Activation('relu'))\n",
    "    # model.add(MaxPooling2D(pool_size=(2,2)))\n",
    "    # model.add(Dropout(0.2))\n",
    "\n",
    "    model.add(Flatten())  # this converts our 3D feature maps to 1D feature vectors\n",
    "    model.add(Dense(512,activation='relu'))\n",
    "\n",
    "    model.add(Dense(actions, activation='linear'))  # ACTION_SPACE_SIZE = how many choices (9)\n",
    "    return model"
   ]
  },
  {
   "cell_type": "code",
   "execution_count": 13,
   "metadata": {
    "pycharm": {
     "name": "#%%\n"
    }
   },
   "outputs": [],
   "source": [
    "del model"
   ]
  },
  {
   "cell_type": "code",
   "execution_count": 14,
   "metadata": {
    "pycharm": {
     "name": "#%%\n"
    }
   },
   "outputs": [],
   "source": [
    "model = build_model()"
   ]
  },
  {
   "cell_type": "code",
   "execution_count": 15,
   "metadata": {
    "pycharm": {
     "name": "#%%\n"
    }
   },
   "outputs": [
    {
     "name": "stdout",
     "output_type": "stream",
     "text": [
      "Model: \"sequential_1\"\n",
      "_________________________________________________________________\n",
      "Layer (type)                 Output Shape              Param #   \n",
      "=================================================================\n",
      "reshape_1 (Reshape)          (None, 11, 11, 2)         0         \n",
      "_________________________________________________________________\n",
      "conv2d_3 (Conv2D)            (None, 9, 9, 32)          608       \n",
      "_________________________________________________________________\n",
      "conv2d_4 (Conv2D)            (None, 7, 7, 64)          18496     \n",
      "_________________________________________________________________\n",
      "conv2d_5 (Conv2D)            (None, 5, 5, 64)          36928     \n",
      "_________________________________________________________________\n",
      "flatten_1 (Flatten)          (None, 1600)              0         \n",
      "_________________________________________________________________\n",
      "dense_2 (Dense)              (None, 512)               819712    \n",
      "_________________________________________________________________\n",
      "dense_3 (Dense)              (None, 64)                32832     \n",
      "=================================================================\n",
      "Total params: 908,576\n",
      "Trainable params: 908,576\n",
      "Non-trainable params: 0\n",
      "_________________________________________________________________\n"
     ]
    }
   ],
   "source": [
    "model.summary()"
   ]
  },
  {
   "cell_type": "code",
   "execution_count": 16,
   "metadata": {
    "pycharm": {
     "name": "#%%\n"
    }
   },
   "outputs": [],
   "source": [
    "from rl.agents import DQNAgent\n",
    "from rl.policy import BoltzmannQPolicy\n",
    "from rl.memory import SequentialMemory\n",
    "from rl.policy import LinearAnnealedPolicy, EpsGreedyQPolicy"
   ]
  },
  {
   "cell_type": "code",
   "execution_count": 17,
   "metadata": {
    "pycharm": {
     "name": "#%%\n"
    }
   },
   "outputs": [],
   "source": [
    "def build_agent(model, actions):\n",
    "#     policy = EpsGreedyQPolicy()\n",
    "    policy = LinearAnnealedPolicy(EpsGreedyQPolicy(), attr='eps', value_max=1., value_min=.1, value_test=.2, nb_steps=10000)\n",
    "    memory = SequentialMemory(limit=500000, window_length=1)\n",
    "    dqn = DQNAgent(model=model, memory=memory, policy=policy,\n",
    "                  nb_actions=actions, nb_steps_warmup=10000, target_model_update=1e-2, enable_double_dqn=True)\n",
    "    return dqn"
   ]
  },
  {
   "cell_type": "code",
   "execution_count": 18,
   "metadata": {
    "pycharm": {
     "name": "#%%\n"
    }
   },
   "outputs": [
    {
     "name": "stderr",
     "output_type": "stream",
     "text": [
      "2022-03-23 14:33:38.182407: I tensorflow/stream_executor/cuda/cuda_gpu_executor.cc:937] successful NUMA node read from SysFS had negative value (-1), but there must be at least one NUMA node, so returning NUMA node zero\n",
      "2022-03-23 14:33:38.182730: I tensorflow/stream_executor/cuda/cuda_gpu_executor.cc:937] successful NUMA node read from SysFS had negative value (-1), but there must be at least one NUMA node, so returning NUMA node zero\n",
      "2022-03-23 14:33:38.182956: I tensorflow/stream_executor/cuda/cuda_gpu_executor.cc:937] successful NUMA node read from SysFS had negative value (-1), but there must be at least one NUMA node, so returning NUMA node zero\n",
      "2022-03-23 14:33:38.183238: I tensorflow/stream_executor/cuda/cuda_gpu_executor.cc:937] successful NUMA node read from SysFS had negative value (-1), but there must be at least one NUMA node, so returning NUMA node zero\n",
      "2022-03-23 14:33:38.183463: I tensorflow/stream_executor/cuda/cuda_gpu_executor.cc:937] successful NUMA node read from SysFS had negative value (-1), but there must be at least one NUMA node, so returning NUMA node zero\n",
      "2022-03-23 14:33:38.183632: I tensorflow/core/common_runtime/gpu/gpu_device.cc:1510] Created device /job:localhost/replica:0/task:0/device:GPU:0 with 4137 MB memory:  -> device: 0, name: NVIDIA GeForce RTX 2060, pci bus id: 0000:01:00.0, compute capability: 7.5\n"
     ]
    }
   ],
   "source": [
    "dqn = build_agent(model, actions)\n",
    "dqn.compile(Adam(lr=0.001), metrics=['mae'])"
   ]
  },
  {
   "cell_type": "markdown",
   "metadata": {},
   "source": []
  },
  {
   "cell_type": "code",
   "execution_count": null,
   "metadata": {
    "pycharm": {
     "name": "#%%\n"
    }
   },
   "outputs": [],
   "source": []
  },
  {
   "cell_type": "code",
   "execution_count": 19,
   "metadata": {
    "pycharm": {
     "name": "#%%\n"
    },
    "scrolled": false
   },
   "outputs": [
    {
     "name": "stdout",
     "output_type": "stream",
     "text": [
      "Training for 1000000 steps ...\n",
      "Interval 1 (0 steps performed)\n"
     ]
    },
    {
     "name": "stderr",
     "output_type": "stream",
     "text": [
      "/home/windpeh/.cache/pypoetry/virtualenvs/e004dipproject-4aAxvmzB-py3.8/lib/python3.8/site-packages/keras/engine/training.py:2470: UserWarning: `Model.state_updates` will be removed in a future version. This property should not be used in TensorFlow 2.0, as `updates` are applied automatically.\n",
      "  warnings.warn('`Model.state_updates` will be removed in a future version. '\n",
      "2022-03-23 14:33:41.298388: I tensorflow/stream_executor/cuda/cuda_dnn.cc:369] Loaded cuDNN version 8100\n"
     ]
    },
    {
     "name": "stdout",
     "output_type": "stream",
     "text": [
      "10000/10000 [==============================] - 91s 9ms/step - reward: -0.9842\n",
      "10 episodes - episode_reward: -984.214 [-1071.470, -884.370]\n",
      "\n",
      "Interval 2 (10000 steps performed)\n",
      "10000/10000 [==============================] - 241s 24ms/step - reward: -1.0257\n",
      "10 episodes - episode_reward: -1025.673 [-1108.575, -958.735] - loss: 0.509 - mae: 24.454 - mean_q: -24.167 - mean_eps: 0.100\n",
      "\n",
      "Interval 3 (20000 steps performed)\n",
      " 5463/10000 [===============>..............] - ETA: 1:46 - reward: -1.0011done, took 459.801 seconds\n"
     ]
    }
   ],
   "source": [
    "dqn.compile(Adam(lr=0.00001), metrics=['mae'])\n",
    "history=dqn.fit(env, nb_steps=1000000, visualize=True, verbose=1)"
   ]
  },
  {
   "cell_type": "markdown",
   "metadata": {},
   "source": []
  },
  {
   "cell_type": "code",
   "execution_count": 43,
   "metadata": {
    "pycharm": {
     "name": "#%%\n"
    }
   },
   "outputs": [
    {
     "name": "stdout",
     "output_type": "stream",
     "text": [
      "Testing for 1 episodes ...\n"
     ]
    },
    {
     "ename": "KeyboardInterrupt",
     "evalue": "",
     "output_type": "error",
     "traceback": [
      "\u001b[1;31m---------------------------------------------------------------------------\u001b[0m",
      "\u001b[1;31mKeyboardInterrupt\u001b[0m                         Traceback (most recent call last)",
      "\u001b[1;32m<ipython-input-43-0a3e0270937c>\u001b[0m in \u001b[0;36m<module>\u001b[1;34m\u001b[0m\n\u001b[1;32m----> 1\u001b[1;33m \u001b[0m_\u001b[0m \u001b[1;33m=\u001b[0m \u001b[0mdqn\u001b[0m\u001b[1;33m.\u001b[0m\u001b[0mtest\u001b[0m\u001b[1;33m(\u001b[0m\u001b[0menv\u001b[0m\u001b[1;33m,\u001b[0m \u001b[0mnb_episodes\u001b[0m\u001b[1;33m=\u001b[0m\u001b[1;36m1\u001b[0m\u001b[1;33m,\u001b[0m \u001b[0mvisualize\u001b[0m\u001b[1;33m=\u001b[0m\u001b[1;32mTrue\u001b[0m\u001b[1;33m)\u001b[0m\u001b[1;33m\u001b[0m\u001b[1;33m\u001b[0m\u001b[0m\n\u001b[0m",
      "\u001b[1;32mD:\\anaconda\\lib\\site-packages\\rl\\core.py\u001b[0m in \u001b[0;36mtest\u001b[1;34m(self, env, nb_episodes, action_repetition, callbacks, visualize, nb_max_episode_steps, nb_max_start_steps, start_step_policy, verbose)\u001b[0m\n\u001b[0;32m    350\u001b[0m                     \u001b[1;32mif\u001b[0m \u001b[0mself\u001b[0m\u001b[1;33m.\u001b[0m\u001b[0mprocessor\u001b[0m \u001b[1;32mis\u001b[0m \u001b[1;32mnot\u001b[0m \u001b[1;32mNone\u001b[0m\u001b[1;33m:\u001b[0m\u001b[1;33m\u001b[0m\u001b[1;33m\u001b[0m\u001b[0m\n\u001b[0;32m    351\u001b[0m                         \u001b[0mobservation\u001b[0m\u001b[1;33m,\u001b[0m \u001b[0mr\u001b[0m\u001b[1;33m,\u001b[0m \u001b[0md\u001b[0m\u001b[1;33m,\u001b[0m \u001b[0minfo\u001b[0m \u001b[1;33m=\u001b[0m \u001b[0mself\u001b[0m\u001b[1;33m.\u001b[0m\u001b[0mprocessor\u001b[0m\u001b[1;33m.\u001b[0m\u001b[0mprocess_step\u001b[0m\u001b[1;33m(\u001b[0m\u001b[0mobservation\u001b[0m\u001b[1;33m,\u001b[0m \u001b[0mr\u001b[0m\u001b[1;33m,\u001b[0m \u001b[0md\u001b[0m\u001b[1;33m,\u001b[0m \u001b[0minfo\u001b[0m\u001b[1;33m)\u001b[0m\u001b[1;33m\u001b[0m\u001b[1;33m\u001b[0m\u001b[0m\n\u001b[1;32m--> 352\u001b[1;33m                     \u001b[0mcallbacks\u001b[0m\u001b[1;33m.\u001b[0m\u001b[0mon_action_end\u001b[0m\u001b[1;33m(\u001b[0m\u001b[0maction\u001b[0m\u001b[1;33m)\u001b[0m\u001b[1;33m\u001b[0m\u001b[1;33m\u001b[0m\u001b[0m\n\u001b[0m\u001b[0;32m    353\u001b[0m                     \u001b[0mreward\u001b[0m \u001b[1;33m+=\u001b[0m \u001b[0mr\u001b[0m\u001b[1;33m\u001b[0m\u001b[1;33m\u001b[0m\u001b[0m\n\u001b[0;32m    354\u001b[0m                     \u001b[1;32mfor\u001b[0m \u001b[0mkey\u001b[0m\u001b[1;33m,\u001b[0m \u001b[0mvalue\u001b[0m \u001b[1;32min\u001b[0m \u001b[0minfo\u001b[0m\u001b[1;33m.\u001b[0m\u001b[0mitems\u001b[0m\u001b[1;33m(\u001b[0m\u001b[1;33m)\u001b[0m\u001b[1;33m:\u001b[0m\u001b[1;33m\u001b[0m\u001b[1;33m\u001b[0m\u001b[0m\n",
      "\u001b[1;32mD:\\anaconda\\lib\\site-packages\\rl\\callbacks.py\u001b[0m in \u001b[0;36mon_action_end\u001b[1;34m(self, action, logs)\u001b[0m\n\u001b[0;32m     96\u001b[0m         \u001b[1;32mfor\u001b[0m \u001b[0mcallback\u001b[0m \u001b[1;32min\u001b[0m \u001b[0mself\u001b[0m\u001b[1;33m.\u001b[0m\u001b[0mcallbacks\u001b[0m\u001b[1;33m:\u001b[0m\u001b[1;33m\u001b[0m\u001b[1;33m\u001b[0m\u001b[0m\n\u001b[0;32m     97\u001b[0m             \u001b[1;32mif\u001b[0m \u001b[0mcallable\u001b[0m\u001b[1;33m(\u001b[0m\u001b[0mgetattr\u001b[0m\u001b[1;33m(\u001b[0m\u001b[0mcallback\u001b[0m\u001b[1;33m,\u001b[0m \u001b[1;34m'on_action_end'\u001b[0m\u001b[1;33m,\u001b[0m \u001b[1;32mNone\u001b[0m\u001b[1;33m)\u001b[0m\u001b[1;33m)\u001b[0m\u001b[1;33m:\u001b[0m\u001b[1;33m\u001b[0m\u001b[1;33m\u001b[0m\u001b[0m\n\u001b[1;32m---> 98\u001b[1;33m                 \u001b[0mcallback\u001b[0m\u001b[1;33m.\u001b[0m\u001b[0mon_action_end\u001b[0m\u001b[1;33m(\u001b[0m\u001b[0maction\u001b[0m\u001b[1;33m,\u001b[0m \u001b[0mlogs\u001b[0m\u001b[1;33m=\u001b[0m\u001b[0mlogs\u001b[0m\u001b[1;33m)\u001b[0m\u001b[1;33m\u001b[0m\u001b[1;33m\u001b[0m\u001b[0m\n\u001b[0m\u001b[0;32m     99\u001b[0m \u001b[1;33m\u001b[0m\u001b[0m\n\u001b[0;32m    100\u001b[0m \u001b[1;33m\u001b[0m\u001b[0m\n",
      "\u001b[1;32mD:\\anaconda\\lib\\site-packages\\rl\\callbacks.py\u001b[0m in \u001b[0;36mon_action_end\u001b[1;34m(self, action, logs)\u001b[0m\n\u001b[0;32m    358\u001b[0m     \u001b[1;32mdef\u001b[0m \u001b[0mon_action_end\u001b[0m\u001b[1;33m(\u001b[0m\u001b[0mself\u001b[0m\u001b[1;33m,\u001b[0m \u001b[0maction\u001b[0m\u001b[1;33m,\u001b[0m \u001b[0mlogs\u001b[0m\u001b[1;33m)\u001b[0m\u001b[1;33m:\u001b[0m\u001b[1;33m\u001b[0m\u001b[1;33m\u001b[0m\u001b[0m\n\u001b[0;32m    359\u001b[0m         \u001b[1;34m\"\"\" Render environment at the end of each action \"\"\"\u001b[0m\u001b[1;33m\u001b[0m\u001b[1;33m\u001b[0m\u001b[0m\n\u001b[1;32m--> 360\u001b[1;33m         \u001b[0mself\u001b[0m\u001b[1;33m.\u001b[0m\u001b[0menv\u001b[0m\u001b[1;33m.\u001b[0m\u001b[0mrender\u001b[0m\u001b[1;33m(\u001b[0m\u001b[0mmode\u001b[0m\u001b[1;33m=\u001b[0m\u001b[1;34m'human'\u001b[0m\u001b[1;33m)\u001b[0m\u001b[1;33m\u001b[0m\u001b[1;33m\u001b[0m\u001b[0m\n\u001b[0m\u001b[0;32m    361\u001b[0m \u001b[1;33m\u001b[0m\u001b[0m\n\u001b[0;32m    362\u001b[0m \u001b[1;33m\u001b[0m\u001b[0m\n",
      "\u001b[1;32m<ipython-input-38-c9e314620436>\u001b[0m in \u001b[0;36mrender\u001b[1;34m(self, mode, close)\u001b[0m\n\u001b[0;32m     22\u001b[0m \u001b[1;33m\u001b[0m\u001b[0m\n\u001b[0;32m     23\u001b[0m     \u001b[1;32mdef\u001b[0m \u001b[0mrender\u001b[0m\u001b[1;33m(\u001b[0m\u001b[0mself\u001b[0m\u001b[1;33m,\u001b[0m \u001b[0mmode\u001b[0m\u001b[1;33m=\u001b[0m\u001b[1;34m\"human\"\u001b[0m\u001b[1;33m,\u001b[0m \u001b[0mclose\u001b[0m\u001b[1;33m=\u001b[0m\u001b[1;32mFalse\u001b[0m\u001b[1;33m)\u001b[0m\u001b[1;33m:\u001b[0m\u001b[1;33m\u001b[0m\u001b[1;33m\u001b[0m\u001b[0m\n\u001b[1;32m---> 24\u001b[1;33m         \u001b[0mtime\u001b[0m\u001b[1;33m.\u001b[0m\u001b[0msleep\u001b[0m\u001b[1;33m(\u001b[0m\u001b[1;36m0.05\u001b[0m\u001b[1;33m)\u001b[0m\u001b[1;33m\u001b[0m\u001b[1;33m\u001b[0m\u001b[0m\n\u001b[0m\u001b[0;32m     25\u001b[0m         \u001b[0mself\u001b[0m\u001b[1;33m.\u001b[0m\u001b[0mpygame\u001b[0m\u001b[1;33m.\u001b[0m\u001b[0mview1\u001b[0m\u001b[1;33m(\u001b[0m\u001b[1;33m)\u001b[0m\u001b[1;33m\u001b[0m\u001b[1;33m\u001b[0m\u001b[0m\n",
      "\u001b[1;31mKeyboardInterrupt\u001b[0m: "
     ]
    }
   ],
   "source": [
    "_ = dqn.test(env, nb_episodes=1, visualize=True)"
   ]
  },
  {
   "cell_type": "code",
   "execution_count": 27,
   "metadata": {
    "pycharm": {
     "name": "#%%\n"
    }
   },
   "outputs": [],
   "source": [
    "dqn.save_weights('training_weights2/', overwrite=True)"
   ]
  },
  {
   "cell_type": "code",
   "execution_count": 49,
   "metadata": {
    "pycharm": {
     "name": "#%%\n"
    }
   },
   "outputs": [],
   "source": [
    "dqn.load_weights('training_weights/collision five parcel three boulder2.h5f')"
   ]
  },
  {
   "cell_type": "code",
   "execution_count": null,
   "metadata": {
    "pycharm": {
     "name": "#%%\n"
    }
   },
   "outputs": [],
   "source": []
  }
 ],
 "metadata": {
  "kernelspec": {
   "display_name": "Python 3 (ipykernel)",
   "language": "python",
   "name": "python3"
  },
  "language_info": {
   "codemirror_mode": {
    "name": "ipython",
    "version": 3
   },
   "file_extension": ".py",
   "mimetype": "text/x-python",
   "name": "python",
   "nbconvert_exporter": "python",
   "pygments_lexer": "ipython3",
   "version": "3.8.10"
  }
 },
 "nbformat": 4,
 "nbformat_minor": 1
}
