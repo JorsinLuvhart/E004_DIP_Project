{
 "cells": [
  {
   "cell_type": "code",
   "execution_count": 1,
   "metadata": {
    "collapsed": true
   },
   "outputs": [],
   "source": [
    "from gym import Env\n",
    "from gym.spaces import Discrete, Box\n",
    "import numpy as np\n",
    "import random\n",
    "import tensorflow as tf\n",
    "from tensorflow.keras.models import Sequential\n",
    "from tensorflow.keras.layers import Dense, Flatten, Conv2D, Conv1D, Activation, MaxPooling2D, MaxPooling1D, Dropout\n",
    "from tensorflow.keras.optimizers import Adam\n",
    "import time"
   ]
  },
  {
   "cell_type": "code",
   "execution_count": 2,
   "metadata": {
    "collapsed": false,
    "pycharm": {
     "name": "#%%\n"
    }
   },
   "outputs": [
    {
     "name": "stdout",
     "output_type": "stream",
     "text": [
      "pygame 2.1.2 (SDL 2.0.18, Python 3.8.8)\n",
      "Hello from the pygame community. https://www.pygame.org/contribute.html\n",
      "Python version 3.8.8 (default, Apr 13 2021, 15:08:03) [MSC v.1916 64 bit (AMD64)]\n"
     ]
    }
   ],
   "source": [
    "from pygameMultibot import GameWindow"
   ]
  },
  {
   "cell_type": "code",
   "execution_count": 35,
   "metadata": {
    "collapsed": false,
    "pycharm": {
     "name": "#%%\n"
    }
   },
   "outputs": [],
   "source": [
    "class Warehouse(Env):\n",
    "    #metadata = {'render.modes' : ['human']}\n",
    "    def __init__(self):\n",
    "        self.pygame = GameWindow(0,2)\n",
    "        self.action_space = Discrete(64)\n",
    "        self.observation_space = Box(low=0, high=6, shape=(11,11,2))\n",
    "\n",
    "    def reset(self):\n",
    "        del self.pygame\n",
    "        self.pygame = GameWindow(0,2)\n",
    "        obs = self.pygame.observe()\n",
    "        return obs\n",
    "\n",
    "    def step(self, action):\n",
    "        self.pygame.action(action)\n",
    "        obs = self.pygame.observe()\n",
    "        reward = self.pygame.evaluate()\n",
    "        done = self.pygame.is_done()\n",
    "        # print(obs)\n",
    "        return obs, reward, done, {}\n",
    "\n",
    "    def render(self, mode=\"human\", close=False):\n",
    "        time.sleep(0.05)\n",
    "        self.pygame.view1()"
   ]
  },
  {
   "cell_type": "code",
   "execution_count": 36,
   "metadata": {
    "collapsed": false,
    "pycharm": {
     "name": "#%%\n"
    }
   },
   "outputs": [],
   "source": [
    "env = Warehouse()"
   ]
  },
  {
   "cell_type": "code",
   "execution_count": 5,
   "metadata": {
    "collapsed": false,
    "pycharm": {
     "name": "#%%\n"
    }
   },
   "outputs": [],
   "source": [
    "states = env.observation_space.shape\n",
    "actions = env.action_space.n"
   ]
  },
  {
   "cell_type": "code",
   "execution_count": 6,
   "metadata": {
    "collapsed": false,
    "pycharm": {
     "name": "#%%\n"
    }
   },
   "outputs": [
    {
     "data": {
      "text/plain": [
       "array([[2.4452944 , 3.5383372 , 3.6035469 , 4.462473  , 4.7858386 ,\n",
       "        4.437677  , 4.002102  , 3.9663677 , 1.8884623 ],\n",
       "       [1.4942323 , 3.5961027 , 2.7873087 , 3.0633903 , 0.5225278 ,\n",
       "        4.082532  , 0.48847166, 4.8141127 , 2.20195   ],\n",
       "       [0.53599477, 1.6767579 , 2.6987495 , 1.0686494 , 4.5410066 ,\n",
       "        1.1085467 , 1.4988247 , 2.6489668 , 0.46038052],\n",
       "       [2.3357296 , 4.2089124 , 4.606848  , 3.569118  , 1.8193121 ,\n",
       "        2.4803622 , 4.672733  , 1.8382236 , 2.6241663 ],\n",
       "       [4.222928  , 3.6386456 , 3.148463  , 3.7675834 , 3.7612913 ,\n",
       "        1.9249065 , 0.32616535, 4.7445188 , 2.619789  ],\n",
       "       [1.4045244 , 3.2305334 , 1.9905653 , 0.70471156, 4.2164307 ,\n",
       "        0.29518104, 1.1506933 , 0.10499869, 3.9615219 ],\n",
       "       [4.505272  , 1.9112425 , 2.8949535 , 1.0292412 , 1.9222237 ,\n",
       "        4.6203556 , 0.17338055, 0.75171185, 2.8495283 ],\n",
       "       [3.1573608 , 2.0951505 , 4.9722805 , 1.8876575 , 3.6862655 ,\n",
       "        2.5208263 , 0.18214294, 3.060203  , 2.200791  ],\n",
       "       [0.52747655, 2.924766  , 0.45443535, 4.434296  , 3.498818  ,\n",
       "        4.4321547 , 3.6128716 , 2.4116151 , 0.6597225 ]], dtype=float32)"
      ]
     },
     "execution_count": 6,
     "metadata": {},
     "output_type": "execute_result"
    }
   ],
   "source": [
    "env.observation_space.sample()"
   ]
  },
  {
   "cell_type": "code",
   "execution_count": 7,
   "metadata": {
    "collapsed": false,
    "pycharm": {
     "name": "#%%\n"
    }
   },
   "outputs": [],
   "source": [
    "def build_model():\n",
    "    model = Sequential()\n",
    "    model.add(tf.keras.layers.Reshape((11,11,2), input_shape=(1,11,11,2)))\n",
    "    model.add(Conv2D(32, (3,3),strides=(1, 1),activation='relu'))  # OBSERVATION_SPACE_VALUES = (10, 10, 3) a 10x10 RGB image.\n",
    "    # model.add(Activation('relu'))\n",
    "    # model.add(MaxPooling2D(pool_size=(2,2)))\n",
    "    # model.add(Dropout(0.2))\n",
    "\n",
    "    model.add(Conv2D(64, (3,3),strides=(1, 1),activation='relu'))\n",
    "    model.add(Conv2D(64, (3,3),strides=(1, 1),activation='relu'))\n",
    "    # model.add(Activation('relu'))\n",
    "    # model.add(MaxPooling2D(pool_size=(2,2)))\n",
    "    # model.add(Dropout(0.2))\n",
    "\n",
    "    model.add(Flatten())  # this converts our 3D feature maps to 1D feature vectors\n",
    "    model.add(Dense(512,activation='relu'))\n",
    "\n",
    "    model.add(Dense(actions, activation='linear'))  # ACTION_SPACE_SIZE = how many choices (9)\n",
    "    return model"
   ]
  },
  {
   "cell_type": "code",
   "execution_count": 13,
   "metadata": {
    "collapsed": false,
    "pycharm": {
     "name": "#%%\n"
    }
   },
   "outputs": [],
   "source": [
    "del model"
   ]
  },
  {
   "cell_type": "code",
   "execution_count": 14,
   "metadata": {
    "collapsed": false,
    "pycharm": {
     "name": "#%%\n"
    }
   },
   "outputs": [],
   "source": [
    "model = build_model()"
   ]
  },
  {
   "cell_type": "code",
   "execution_count": 15,
   "metadata": {
    "collapsed": false,
    "pycharm": {
     "name": "#%%\n"
    }
   },
   "outputs": [
    {
     "name": "stdout",
     "output_type": "stream",
     "text": [
      "Model: \"sequential_1\"\n",
      "_________________________________________________________________\n",
      " Layer (type)                Output Shape              Param #   \n",
      "=================================================================\n",
      " reshape_1 (Reshape)         (None, 9, 9, 1)           0         \n",
      "                                                                 \n",
      " conv2d_3 (Conv2D)           (None, 7, 7, 32)          320       \n",
      "                                                                 \n",
      " conv2d_4 (Conv2D)           (None, 5, 5, 64)          18496     \n",
      "                                                                 \n",
      " conv2d_5 (Conv2D)           (None, 3, 3, 64)          36928     \n",
      "                                                                 \n",
      " flatten_1 (Flatten)         (None, 576)               0         \n",
      "                                                                 \n",
      " dense_2 (Dense)             (None, 512)               295424    \n",
      "                                                                 \n",
      " dense_3 (Dense)             (None, 25)                12825     \n",
      "                                                                 \n",
      "=================================================================\n",
      "Total params: 363,993\n",
      "Trainable params: 363,993\n",
      "Non-trainable params: 0\n",
      "_________________________________________________________________\n"
     ]
    }
   ],
   "source": [
    "model.summary()"
   ]
  },
  {
   "cell_type": "code",
   "execution_count": 16,
   "metadata": {
    "collapsed": false,
    "pycharm": {
     "name": "#%%\n"
    }
   },
   "outputs": [],
   "source": [
    "from rl.agents import DQNAgent\n",
    "from rl.policy import BoltzmannQPolicy\n",
    "from rl.memory import SequentialMemory\n",
    "from rl.policy import LinearAnnealedPolicy, EpsGreedyQPolicy"
   ]
  },
  {
   "cell_type": "code",
   "execution_count": 17,
   "metadata": {
    "collapsed": false,
    "pycharm": {
     "name": "#%%\n"
    }
   },
   "outputs": [],
   "source": [
    "def build_agent(model, actions):\n",
    "#     policy = EpsGreedyQPolicy()\n",
    "    policy = LinearAnnealedPolicy(EpsGreedyQPolicy(), attr='eps', value_max=1., value_min=.1, value_test=.2, nb_steps=10000)\n",
    "    memory = SequentialMemory(limit=500000, window_length=1)\n",
    "    dqn = DQNAgent(model=model, memory=memory, policy=policy,\n",
    "                  nb_actions=actions, nb_steps_warmup=10000, target_model_update=1e-2, enable_double_dqn=True)\n",
    "    return dqn"
   ]
  },
  {
   "cell_type": "code",
   "execution_count": 18,
   "metadata": {
    "collapsed": false,
    "pycharm": {
     "name": "#%%\n"
    }
   },
   "outputs": [
    {
     "name": "stderr",
     "output_type": "stream",
     "text": [
      "D:\\anaconda\\lib\\site-packages\\keras\\optimizer_v2\\adam.py:105: UserWarning: The `lr` argument is deprecated, use `learning_rate` instead.\n",
      "  super(Adam, self).__init__(name, **kwargs)\n"
     ]
    }
   ],
   "source": [
    "dqn = build_agent(model, actions)\n",
    "dqn.compile(Adam(lr=0.001), metrics=['mae'])"
   ]
  },
  {
   "cell_type": "markdown",
   "metadata": {
    "collapsed": false
   },
   "source": []
  },
  {
   "cell_type": "code",
   "execution_count": 33,
   "metadata": {
    "collapsed": false,
    "pycharm": {
     "name": "#%%\n"
    }
   },
   "outputs": [
    {
     "name": "stdout",
     "output_type": "stream",
     "text": [
      "Training for 1000000 steps ...\n",
      "Interval 1 (0 steps performed)\n",
      "10000/10000 [==============================] - 20s 2ms/step - reward: -0.0879\n",
      "10 episodes - episode_reward: -87.910 [-186.800, 36.500]\n",
      "\n",
      "Interval 2 (10000 steps performed)\n",
      "10000/10000 [==============================] - 147s 15ms/step - reward: 0.0440\n",
      "10 episodes - episode_reward: 43.980 [17.800, 54.100] - loss: 0.031 - mae: 5.181 - mean_q: 5.679 - mean_eps: 0.100\n",
      "\n",
      "Interval 3 (20000 steps performed)\n",
      " 1714/10000 [====>.........................] - ETA: 1:56 - reward: 0.0541done, took 190.959 seconds\n"
     ]
    }
   ],
   "source": [
    "dqn.compile(Adam(lr=0.000007), metrics=['mae'])\n",
    "history=dqn.fit(env, nb_steps=1000000, visualize=True, verbose=1)"
   ]
  },
  {
   "cell_type": "code",
   "execution_count": 38,
   "metadata": {
    "collapsed": false,
    "pycharm": {
     "name": "#%%\n"
    }
   },
   "outputs": [
    {
     "name": "stdout",
     "output_type": "stream",
     "text": [
      "Testing for 1 episodes ...\n",
      "Episode 1: reward: 87.100, steps: 1000\n"
     ]
    }
   ],
   "source": [
    "_ = dqn.test(env, nb_episodes=1, visualize=True)"
   ]
  },
  {
   "cell_type": "code",
   "execution_count": 33,
   "metadata": {
    "collapsed": false,
    "pycharm": {
     "name": "#%%\n"
    }
   },
   "outputs": [],
   "source": [
    "dqn.save_weights('dqn_weights.h5f', overwrite=True)"
   ]
  },
  {
   "cell_type": "code",
   "execution_count": 26,
   "metadata": {
    "collapsed": false,
    "pycharm": {
     "name": "#%%\n"
    }
   },
   "outputs": [],
   "source": [
    "dqn.load_weights('dqn_weights.h5f')"
   ]
  },
  {
   "cell_type": "code",
   "execution_count": 25,
   "metadata": {
    "collapsed": false,
    "pycharm": {
     "name": "#%%\n"
    }
   },
   "outputs": [],
   "source": [
    "dqn.save_weights('dqn_weightsCNN.h5f', overwrite=True)"
   ]
  },
  {
   "cell_type": "code",
   "execution_count": 28,
   "metadata": {
    "collapsed": false,
    "pycharm": {
     "name": "#%%\n"
    }
   },
   "outputs": [],
   "source": [
    "dqn.load_weights('dqn_weightsCNN.h5f')"
   ]
  },
  {
   "cell_type": "code",
   "execution_count": 23,
   "metadata": {
    "collapsed": false,
    "pycharm": {
     "name": "#%%\n"
    }
   },
   "outputs": [],
   "source": [
    "dqn.save_weights('dqn_weightsTemp.h5f', overwrite=True)"
   ]
  },
  {
   "cell_type": "code",
   "execution_count": 19,
   "metadata": {
    "collapsed": false,
    "pycharm": {
     "name": "#%%\n"
    }
   },
   "outputs": [],
   "source": [
    "dqn.load_weights('dqn_weightsTemp.h5f')"
   ]
  },
  {
   "cell_type": "code",
   "execution_count": 23,
   "metadata": {
    "collapsed": false,
    "pycharm": {
     "name": "#%%\n"
    }
   },
   "outputs": [],
   "source": [
    "dqn.save_weights('dqn_weightsTemp1.h5f', overwrite=True)"
   ]
  },
  {
   "cell_type": "code",
   "execution_count": 20,
   "metadata": {
    "collapsed": false,
    "pycharm": {
     "name": "#%%\n"
    }
   },
   "outputs": [],
   "source": [
    "dqn.load_weights('dqn_weightsTemp1.h5f')"
   ]
  },
  {
   "cell_type": "code",
   "execution_count": null,
   "metadata": {
    "collapsed": false,
    "pycharm": {
     "name": "#%%\n"
    }
   },
   "outputs": [],
   "source": []
  }
 ],
 "metadata": {
  "kernelspec": {
   "display_name": "Python 3",
   "language": "python",
   "name": "python3"
  },
  "language_info": {
   "codemirror_mode": {
    "name": "ipython",
    "version": 2
   },
   "file_extension": ".py",
   "mimetype": "text/x-python",
   "name": "python",
   "nbconvert_exporter": "python",
   "pygments_lexer": "ipython2",
   "version": "2.7.6"
  }
 },
 "nbformat": 4,
 "nbformat_minor": 0
}
