{
 "cells": [
  {
   "cell_type": "code",
   "execution_count": 1,
   "metadata": {},
   "outputs": [],
   "source": [
    "from gym import Env\n",
    "from gym.spaces import Discrete, Box\n",
    "import numpy as np\n",
    "import random\n",
    "import tensorflow as tf\n",
    "from tensorflow.keras.models import Sequential\n",
    "from tensorflow.keras.layers import Dense, Flatten, Conv2D, Conv1D, Activation, MaxPooling2D, MaxPooling1D, Dropout\n",
    "from tensorflow.keras.optimizers import Adam\n",
    "import time"
   ]
  },
  {
   "cell_type": "code",
   "execution_count": 2,
   "metadata": {
    "pycharm": {
     "name": "#%%\n"
    }
   },
   "outputs": [
    {
     "name": "stdout",
     "output_type": "stream",
     "text": [
      "pygame 2.1.2 (SDL 2.0.18, Python 3.8.8)\n",
      "Hello from the pygame community. https://www.pygame.org/contribute.html\n",
      "Python version 3.8.8 (default, Apr 13 2021, 15:08:03) [MSC v.1916 64 bit (AMD64)]\n"
     ]
    }
   ],
   "source": [
    "from pygameMultibot1 import GameWindow"
   ]
  },
  {
   "cell_type": "code",
   "execution_count": 38,
   "metadata": {
    "pycharm": {
     "name": "#%%\n"
    }
   },
   "outputs": [],
   "source": [
    "class Warehouse(Env):\n",
    "    #metadata = {'render.modes' : ['human']}\n",
    "    def __init__(self):\n",
    "        self.pygame = GameWindow(0,5,0)\n",
    "        self.action_space = Discrete(64)\n",
    "        self.observation_space = Box(low=0, high=6, shape=(11,11,2))\n",
    "\n",
    "    def reset(self):\n",
    "        del self.pygame\n",
    "        self.pygame = GameWindow(0,5,0)\n",
    "        obs = self.pygame.observe()\n",
    "        return obs\n",
    "\n",
    "    def step(self, action):\n",
    "        self.pygame.action(action)\n",
    "        obs = self.pygame.observe()\n",
    "        reward = self.pygame.evaluate()\n",
    "        done = self.pygame.is_done()\n",
    "        # print(obs)\n",
    "        # time.sleep(0.02)\n",
    "        return obs, reward, done, {}\n",
    "\n",
    "    def render(self, mode=\"human\", close=False):\n",
    "        time.sleep(0.05)\n",
    "        self.pygame.view1()"
   ]
  },
  {
   "cell_type": "code",
   "execution_count": 39,
   "metadata": {
    "pycharm": {
     "name": "#%%\n"
    }
   },
   "outputs": [],
   "source": [
    "env = Warehouse()"
   ]
  },
  {
   "cell_type": "code",
   "execution_count": 5,
   "metadata": {
    "pycharm": {
     "name": "#%%\n"
    }
   },
   "outputs": [],
   "source": [
    "states = env.observation_space.shape\n",
    "actions = env.action_space.n"
   ]
  },
  {
   "cell_type": "code",
   "execution_count": 6,
   "metadata": {
    "pycharm": {
     "name": "#%%\n"
    }
   },
   "outputs": [
    {
     "data": {
      "text/plain": "array([[[0.0789023 , 3.811914  ],\n        [4.6018434 , 2.2909834 ],\n        [5.6149526 , 4.0245204 ],\n        [2.2161117 , 2.8083827 ],\n        [2.5733173 , 5.030529  ],\n        [5.4144006 , 0.9324109 ],\n        [2.4334998 , 4.751833  ],\n        [3.4453847 , 1.7505913 ],\n        [2.911506  , 4.726684  ],\n        [2.1155038 , 2.480137  ],\n        [1.9422618 , 0.69904906]],\n\n       [[2.6417649 , 5.5493026 ],\n        [0.21703127, 0.44551903],\n        [4.563553  , 0.6252595 ],\n        [5.409165  , 4.7729125 ],\n        [1.478918  , 5.3872733 ],\n        [1.9799873 , 2.3694534 ],\n        [5.980968  , 1.2028096 ],\n        [5.426635  , 2.348487  ],\n        [2.8981748 , 0.7032949 ],\n        [3.462932  , 3.2890723 ],\n        [2.203434  , 1.0648615 ]],\n\n       [[5.938228  , 3.2477052 ],\n        [4.778246  , 0.89458025],\n        [3.8270166 , 0.4230178 ],\n        [2.2365866 , 5.197233  ],\n        [4.6698933 , 2.9473565 ],\n        [1.6832515 , 0.6644926 ],\n        [2.704645  , 1.7601866 ],\n        [1.0316744 , 0.609544  ],\n        [2.1389413 , 0.6562202 ],\n        [1.464959  , 3.9016442 ],\n        [4.296745  , 4.136707  ]],\n\n       [[3.031135  , 5.6622415 ],\n        [5.8836083 , 5.9711776 ],\n        [2.8406272 , 1.9056187 ],\n        [3.3324232 , 4.750196  ],\n        [5.3799777 , 2.316492  ],\n        [4.573473  , 3.3165648 ],\n        [3.86296   , 0.3365245 ],\n        [2.944293  , 0.5686394 ],\n        [1.8367591 , 3.9283242 ],\n        [2.3408804 , 3.605994  ],\n        [4.013814  , 1.2901434 ]],\n\n       [[1.1403122 , 1.5037924 ],\n        [2.5313048 , 1.8251449 ],\n        [5.369509  , 2.2719736 ],\n        [3.4228218 , 0.75122154],\n        [2.570901  , 5.4460034 ],\n        [0.61963886, 4.553553  ],\n        [2.1560538 , 1.7550763 ],\n        [1.4051585 , 2.4422417 ],\n        [3.2102146 , 4.548261  ],\n        [3.4841175 , 3.2976713 ],\n        [1.196412  , 1.2645746 ]],\n\n       [[5.4256516 , 5.8104544 ],\n        [3.3150334 , 3.3979497 ],\n        [5.328787  , 5.671199  ],\n        [5.771963  , 3.1956847 ],\n        [1.3745316 , 1.1144191 ],\n        [1.6968391 , 5.4844    ],\n        [4.657901  , 4.2491045 ],\n        [2.3066428 , 0.38823187],\n        [2.959752  , 0.98546594],\n        [0.5178322 , 0.9840339 ],\n        [5.290673  , 4.2866254 ]],\n\n       [[3.071131  , 2.1381593 ],\n        [5.5675936 , 0.60012394],\n        [3.4854238 , 0.9194789 ],\n        [3.9926093 , 5.609893  ],\n        [0.9617544 , 3.4032154 ],\n        [1.6646873 , 3.9887578 ],\n        [0.76239055, 4.0846868 ],\n        [0.8125173 , 1.4087186 ],\n        [3.840431  , 2.9923797 ],\n        [3.055741  , 1.8205916 ],\n        [1.237952  , 0.4691883 ]],\n\n       [[2.6377826 , 1.0544131 ],\n        [0.59956646, 1.2622689 ],\n        [5.0885167 , 0.84193975],\n        [2.0450528 , 1.437247  ],\n        [2.158136  , 1.3696642 ],\n        [4.170479  , 3.1693566 ],\n        [4.011539  , 5.849305  ],\n        [3.4169471 , 0.94537663],\n        [2.9484303 , 2.6416168 ],\n        [4.1580467 , 1.7595975 ],\n        [5.0857587 , 0.30822846]],\n\n       [[5.6596184 , 2.8655965 ],\n        [3.9002273 , 2.9126356 ],\n        [2.7342408 , 5.6878233 ],\n        [3.604406  , 1.5033311 ],\n        [0.11007357, 2.9946597 ],\n        [5.88361   , 3.02546   ],\n        [4.8692017 , 5.6701794 ],\n        [4.0631285 , 2.6332755 ],\n        [2.107696  , 2.1955945 ],\n        [2.9883506 , 5.4467263 ],\n        [1.7036036 , 4.1585627 ]],\n\n       [[1.3563792 , 0.41111094],\n        [5.8999524 , 4.7858543 ],\n        [0.8954143 , 5.0681267 ],\n        [3.6224077 , 2.7197583 ],\n        [2.948168  , 1.3556018 ],\n        [0.19953807, 0.26414073],\n        [0.1515882 , 0.68804014],\n        [1.8299615 , 2.2973354 ],\n        [3.8335426 , 3.2468736 ],\n        [0.2787023 , 2.288173  ],\n        [4.4489617 , 4.592016  ]],\n\n       [[3.861354  , 3.5971758 ],\n        [1.9500833 , 2.8834994 ],\n        [1.6498193 , 4.874627  ],\n        [3.802005  , 2.9785502 ],\n        [4.5068    , 1.809418  ],\n        [0.02727747, 0.9166391 ],\n        [3.4969165 , 0.62408507],\n        [2.5347013 , 2.4608715 ],\n        [5.5511303 , 0.6639692 ],\n        [1.8725622 , 3.3457236 ],\n        [0.6256057 , 5.3164415 ]]], dtype=float32)"
     },
     "execution_count": 6,
     "metadata": {},
     "output_type": "execute_result"
    }
   ],
   "source": [
    "env.observation_space.sample()"
   ]
  },
  {
   "cell_type": "code",
   "execution_count": 7,
   "metadata": {
    "pycharm": {
     "name": "#%%\n"
    }
   },
   "outputs": [],
   "source": [
    "def build_model():\n",
    "    model = Sequential()\n",
    "    model.add(tf.keras.layers.Reshape((11,11,2), input_shape=(1,11,11,2)))\n",
    "    model.add(Conv2D(32, (3,3),strides=(1, 1),activation='relu'))  # OBSERVATION_SPACE_VALUES = (10, 10, 3) a 10x10 RGB image.\n",
    "    # model.add(Activation('relu'))\n",
    "    # model.add(MaxPooling2D(pool_size=(2,2)))\n",
    "    # model.add(Dropout(0.2))\n",
    "\n",
    "    model.add(Conv2D(64, (3,3),strides=(1, 1),activation='relu'))\n",
    "    model.add(Conv2D(64, (3,3),strides=(1, 1),activation='relu'))\n",
    "    # model.add(Activation('relu'))\n",
    "    # model.add(MaxPooling2D(pool_size=(2,2)))\n",
    "    # model.add(Dropout(0.2))\n",
    "\n",
    "    model.add(Flatten())  # this converts our 3D feature maps to 1D feature vectors\n",
    "    model.add(Dense(512,activation='relu'))\n",
    "\n",
    "    model.add(Dense(actions, activation='linear'))  # ACTION_SPACE_SIZE = how many choices (9)\n",
    "    return model"
   ]
  },
  {
   "cell_type": "code",
   "execution_count": 13,
   "metadata": {
    "pycharm": {
     "name": "#%%\n"
    }
   },
   "outputs": [],
   "source": [
    "del model"
   ]
  },
  {
   "cell_type": "code",
   "execution_count": 14,
   "metadata": {
    "pycharm": {
     "name": "#%%\n"
    }
   },
   "outputs": [],
   "source": [
    "model = build_model()"
   ]
  },
  {
   "cell_type": "code",
   "execution_count": 15,
   "metadata": {
    "pycharm": {
     "name": "#%%\n"
    }
   },
   "outputs": [
    {
     "name": "stdout",
     "output_type": "stream",
     "text": [
      "Model: \"sequential_1\"\n",
      "_________________________________________________________________\n",
      " Layer (type)                Output Shape              Param #   \n",
      "=================================================================\n",
      " reshape_1 (Reshape)         (None, 11, 11, 2)         0         \n",
      "                                                                 \n",
      " conv2d_3 (Conv2D)           (None, 9, 9, 32)          608       \n",
      "                                                                 \n",
      " conv2d_4 (Conv2D)           (None, 7, 7, 64)          18496     \n",
      "                                                                 \n",
      " conv2d_5 (Conv2D)           (None, 5, 5, 64)          36928     \n",
      "                                                                 \n",
      " flatten_1 (Flatten)         (None, 1600)              0         \n",
      "                                                                 \n",
      " dense_2 (Dense)             (None, 512)               819712    \n",
      "                                                                 \n",
      " dense_3 (Dense)             (None, 64)                32832     \n",
      "                                                                 \n",
      "=================================================================\n",
      "Total params: 908,576\n",
      "Trainable params: 908,576\n",
      "Non-trainable params: 0\n",
      "_________________________________________________________________\n"
     ]
    }
   ],
   "source": [
    "model.summary()"
   ]
  },
  {
   "cell_type": "code",
   "execution_count": 16,
   "metadata": {
    "pycharm": {
     "name": "#%%\n"
    }
   },
   "outputs": [],
   "source": [
    "from rl.agents import DQNAgent\n",
    "from rl.policy import BoltzmannQPolicy\n",
    "from rl.memory import SequentialMemory\n",
    "from rl.policy import LinearAnnealedPolicy, EpsGreedyQPolicy"
   ]
  },
  {
   "cell_type": "code",
   "execution_count": 17,
   "metadata": {
    "pycharm": {
     "name": "#%%\n"
    }
   },
   "outputs": [],
   "source": [
    "def build_agent(model, actions):\n",
    "#     policy = EpsGreedyQPolicy()\n",
    "    policy = LinearAnnealedPolicy(EpsGreedyQPolicy(), attr='eps', value_max=1., value_min=.1, value_test=.2, nb_steps=10000)\n",
    "    memory = SequentialMemory(limit=500000, window_length=1)\n",
    "    dqn = DQNAgent(model=model, memory=memory, policy=policy,\n",
    "                  nb_actions=actions, nb_steps_warmup=10000, target_model_update=1e-2, enable_double_dqn=True)\n",
    "    return dqn"
   ]
  },
  {
   "cell_type": "code",
   "execution_count": 18,
   "metadata": {
    "pycharm": {
     "name": "#%%\n"
    }
   },
   "outputs": [],
   "source": [
    "dqn = build_agent(model, actions)\n",
    "dqn.compile(Adam(lr=0.001), metrics=['mae'])"
   ]
  },
  {
   "cell_type": "markdown",
   "metadata": {},
   "source": []
  },
  {
   "cell_type": "code",
   "execution_count": null,
   "outputs": [],
   "source": [],
   "metadata": {
    "collapsed": false,
    "pycharm": {
     "name": "#%%\n"
    }
   }
  },
  {
   "cell_type": "code",
   "execution_count": 28,
   "metadata": {
    "pycharm": {
     "name": "#%%\n"
    },
    "scrolled": false
   },
   "outputs": [
    {
     "name": "stdout",
     "output_type": "stream",
     "text": [
      "Training for 1000000 steps ...\n",
      "Interval 1 (0 steps performed)\n",
      "10000/10000 [==============================] - 12s 1ms/step - reward: -0.4113\n",
      "10 episodes - episode_reward: -411.343 [-966.370, 39.985]\n",
      "\n",
      "Interval 2 (10000 steps performed)\n",
      "10000/10000 [==============================] - 268s 27ms/step - reward: 0.0495\n",
      "10 episodes - episode_reward: 49.522 [13.260, 79.575] - loss: 0.184 - mae: 9.980 - mean_q: 10.799 - mean_eps: 0.100\n",
      "\n",
      "Interval 3 (20000 steps performed)\n",
      "10000/10000 [==============================] - 238s 24ms/step - reward: 0.0476\n",
      "10 episodes - episode_reward: 47.625 [7.450, 79.185] - loss: 0.188 - mae: 10.171 - mean_q: 11.000 - mean_eps: 0.100\n",
      "\n",
      "Interval 4 (30000 steps performed)\n",
      "10000/10000 [==============================] - 244s 24ms/step - reward: 0.0568\n",
      "10 episodes - episode_reward: 56.770 [18.060, 80.455] - loss: 0.182 - mae: 10.328 - mean_q: 11.168 - mean_eps: 0.100\n",
      "\n",
      "Interval 5 (40000 steps performed)\n",
      "10000/10000 [==============================] - 254s 25ms/step - reward: 0.0460\n",
      "10 episodes - episode_reward: 45.962 [12.610, 89.915] - loss: 0.184 - mae: 10.454 - mean_q: 11.295 - mean_eps: 0.100\n",
      "\n",
      "Interval 6 (50000 steps performed)\n",
      " 9109/10000 [==========================>...] - ETA: 22s - reward: 0.0433done, took 1249.268 seconds\n"
     ]
    }
   ],
   "source": [
    "dqn.compile(Adam(lr=0.00001), metrics=['mae'])\n",
    "history=dqn.fit(env, nb_steps=1000000, visualize=False, verbose=1)"
   ]
  },
  {
   "cell_type": "markdown",
   "source": [],
   "metadata": {
    "collapsed": false
   }
  },
  {
   "cell_type": "code",
   "execution_count": 43,
   "metadata": {
    "pycharm": {
     "name": "#%%\n"
    }
   },
   "outputs": [
    {
     "name": "stdout",
     "output_type": "stream",
     "text": [
      "Testing for 1 episodes ...\n"
     ]
    },
    {
     "ename": "KeyboardInterrupt",
     "evalue": "",
     "output_type": "error",
     "traceback": [
      "\u001B[1;31m---------------------------------------------------------------------------\u001B[0m",
      "\u001B[1;31mKeyboardInterrupt\u001B[0m                         Traceback (most recent call last)",
      "\u001B[1;32m<ipython-input-43-0a3e0270937c>\u001B[0m in \u001B[0;36m<module>\u001B[1;34m\u001B[0m\n\u001B[1;32m----> 1\u001B[1;33m \u001B[0m_\u001B[0m \u001B[1;33m=\u001B[0m \u001B[0mdqn\u001B[0m\u001B[1;33m.\u001B[0m\u001B[0mtest\u001B[0m\u001B[1;33m(\u001B[0m\u001B[0menv\u001B[0m\u001B[1;33m,\u001B[0m \u001B[0mnb_episodes\u001B[0m\u001B[1;33m=\u001B[0m\u001B[1;36m1\u001B[0m\u001B[1;33m,\u001B[0m \u001B[0mvisualize\u001B[0m\u001B[1;33m=\u001B[0m\u001B[1;32mTrue\u001B[0m\u001B[1;33m)\u001B[0m\u001B[1;33m\u001B[0m\u001B[1;33m\u001B[0m\u001B[0m\n\u001B[0m",
      "\u001B[1;32mD:\\anaconda\\lib\\site-packages\\rl\\core.py\u001B[0m in \u001B[0;36mtest\u001B[1;34m(self, env, nb_episodes, action_repetition, callbacks, visualize, nb_max_episode_steps, nb_max_start_steps, start_step_policy, verbose)\u001B[0m\n\u001B[0;32m    350\u001B[0m                     \u001B[1;32mif\u001B[0m \u001B[0mself\u001B[0m\u001B[1;33m.\u001B[0m\u001B[0mprocessor\u001B[0m \u001B[1;32mis\u001B[0m \u001B[1;32mnot\u001B[0m \u001B[1;32mNone\u001B[0m\u001B[1;33m:\u001B[0m\u001B[1;33m\u001B[0m\u001B[1;33m\u001B[0m\u001B[0m\n\u001B[0;32m    351\u001B[0m                         \u001B[0mobservation\u001B[0m\u001B[1;33m,\u001B[0m \u001B[0mr\u001B[0m\u001B[1;33m,\u001B[0m \u001B[0md\u001B[0m\u001B[1;33m,\u001B[0m \u001B[0minfo\u001B[0m \u001B[1;33m=\u001B[0m \u001B[0mself\u001B[0m\u001B[1;33m.\u001B[0m\u001B[0mprocessor\u001B[0m\u001B[1;33m.\u001B[0m\u001B[0mprocess_step\u001B[0m\u001B[1;33m(\u001B[0m\u001B[0mobservation\u001B[0m\u001B[1;33m,\u001B[0m \u001B[0mr\u001B[0m\u001B[1;33m,\u001B[0m \u001B[0md\u001B[0m\u001B[1;33m,\u001B[0m \u001B[0minfo\u001B[0m\u001B[1;33m)\u001B[0m\u001B[1;33m\u001B[0m\u001B[1;33m\u001B[0m\u001B[0m\n\u001B[1;32m--> 352\u001B[1;33m                     \u001B[0mcallbacks\u001B[0m\u001B[1;33m.\u001B[0m\u001B[0mon_action_end\u001B[0m\u001B[1;33m(\u001B[0m\u001B[0maction\u001B[0m\u001B[1;33m)\u001B[0m\u001B[1;33m\u001B[0m\u001B[1;33m\u001B[0m\u001B[0m\n\u001B[0m\u001B[0;32m    353\u001B[0m                     \u001B[0mreward\u001B[0m \u001B[1;33m+=\u001B[0m \u001B[0mr\u001B[0m\u001B[1;33m\u001B[0m\u001B[1;33m\u001B[0m\u001B[0m\n\u001B[0;32m    354\u001B[0m                     \u001B[1;32mfor\u001B[0m \u001B[0mkey\u001B[0m\u001B[1;33m,\u001B[0m \u001B[0mvalue\u001B[0m \u001B[1;32min\u001B[0m \u001B[0minfo\u001B[0m\u001B[1;33m.\u001B[0m\u001B[0mitems\u001B[0m\u001B[1;33m(\u001B[0m\u001B[1;33m)\u001B[0m\u001B[1;33m:\u001B[0m\u001B[1;33m\u001B[0m\u001B[1;33m\u001B[0m\u001B[0m\n",
      "\u001B[1;32mD:\\anaconda\\lib\\site-packages\\rl\\callbacks.py\u001B[0m in \u001B[0;36mon_action_end\u001B[1;34m(self, action, logs)\u001B[0m\n\u001B[0;32m     96\u001B[0m         \u001B[1;32mfor\u001B[0m \u001B[0mcallback\u001B[0m \u001B[1;32min\u001B[0m \u001B[0mself\u001B[0m\u001B[1;33m.\u001B[0m\u001B[0mcallbacks\u001B[0m\u001B[1;33m:\u001B[0m\u001B[1;33m\u001B[0m\u001B[1;33m\u001B[0m\u001B[0m\n\u001B[0;32m     97\u001B[0m             \u001B[1;32mif\u001B[0m \u001B[0mcallable\u001B[0m\u001B[1;33m(\u001B[0m\u001B[0mgetattr\u001B[0m\u001B[1;33m(\u001B[0m\u001B[0mcallback\u001B[0m\u001B[1;33m,\u001B[0m \u001B[1;34m'on_action_end'\u001B[0m\u001B[1;33m,\u001B[0m \u001B[1;32mNone\u001B[0m\u001B[1;33m)\u001B[0m\u001B[1;33m)\u001B[0m\u001B[1;33m:\u001B[0m\u001B[1;33m\u001B[0m\u001B[1;33m\u001B[0m\u001B[0m\n\u001B[1;32m---> 98\u001B[1;33m                 \u001B[0mcallback\u001B[0m\u001B[1;33m.\u001B[0m\u001B[0mon_action_end\u001B[0m\u001B[1;33m(\u001B[0m\u001B[0maction\u001B[0m\u001B[1;33m,\u001B[0m \u001B[0mlogs\u001B[0m\u001B[1;33m=\u001B[0m\u001B[0mlogs\u001B[0m\u001B[1;33m)\u001B[0m\u001B[1;33m\u001B[0m\u001B[1;33m\u001B[0m\u001B[0m\n\u001B[0m\u001B[0;32m     99\u001B[0m \u001B[1;33m\u001B[0m\u001B[0m\n\u001B[0;32m    100\u001B[0m \u001B[1;33m\u001B[0m\u001B[0m\n",
      "\u001B[1;32mD:\\anaconda\\lib\\site-packages\\rl\\callbacks.py\u001B[0m in \u001B[0;36mon_action_end\u001B[1;34m(self, action, logs)\u001B[0m\n\u001B[0;32m    358\u001B[0m     \u001B[1;32mdef\u001B[0m \u001B[0mon_action_end\u001B[0m\u001B[1;33m(\u001B[0m\u001B[0mself\u001B[0m\u001B[1;33m,\u001B[0m \u001B[0maction\u001B[0m\u001B[1;33m,\u001B[0m \u001B[0mlogs\u001B[0m\u001B[1;33m)\u001B[0m\u001B[1;33m:\u001B[0m\u001B[1;33m\u001B[0m\u001B[1;33m\u001B[0m\u001B[0m\n\u001B[0;32m    359\u001B[0m         \u001B[1;34m\"\"\" Render environment at the end of each action \"\"\"\u001B[0m\u001B[1;33m\u001B[0m\u001B[1;33m\u001B[0m\u001B[0m\n\u001B[1;32m--> 360\u001B[1;33m         \u001B[0mself\u001B[0m\u001B[1;33m.\u001B[0m\u001B[0menv\u001B[0m\u001B[1;33m.\u001B[0m\u001B[0mrender\u001B[0m\u001B[1;33m(\u001B[0m\u001B[0mmode\u001B[0m\u001B[1;33m=\u001B[0m\u001B[1;34m'human'\u001B[0m\u001B[1;33m)\u001B[0m\u001B[1;33m\u001B[0m\u001B[1;33m\u001B[0m\u001B[0m\n\u001B[0m\u001B[0;32m    361\u001B[0m \u001B[1;33m\u001B[0m\u001B[0m\n\u001B[0;32m    362\u001B[0m \u001B[1;33m\u001B[0m\u001B[0m\n",
      "\u001B[1;32m<ipython-input-38-c9e314620436>\u001B[0m in \u001B[0;36mrender\u001B[1;34m(self, mode, close)\u001B[0m\n\u001B[0;32m     22\u001B[0m \u001B[1;33m\u001B[0m\u001B[0m\n\u001B[0;32m     23\u001B[0m     \u001B[1;32mdef\u001B[0m \u001B[0mrender\u001B[0m\u001B[1;33m(\u001B[0m\u001B[0mself\u001B[0m\u001B[1;33m,\u001B[0m \u001B[0mmode\u001B[0m\u001B[1;33m=\u001B[0m\u001B[1;34m\"human\"\u001B[0m\u001B[1;33m,\u001B[0m \u001B[0mclose\u001B[0m\u001B[1;33m=\u001B[0m\u001B[1;32mFalse\u001B[0m\u001B[1;33m)\u001B[0m\u001B[1;33m:\u001B[0m\u001B[1;33m\u001B[0m\u001B[1;33m\u001B[0m\u001B[0m\n\u001B[1;32m---> 24\u001B[1;33m         \u001B[0mtime\u001B[0m\u001B[1;33m.\u001B[0m\u001B[0msleep\u001B[0m\u001B[1;33m(\u001B[0m\u001B[1;36m0.05\u001B[0m\u001B[1;33m)\u001B[0m\u001B[1;33m\u001B[0m\u001B[1;33m\u001B[0m\u001B[0m\n\u001B[0m\u001B[0;32m     25\u001B[0m         \u001B[0mself\u001B[0m\u001B[1;33m.\u001B[0m\u001B[0mpygame\u001B[0m\u001B[1;33m.\u001B[0m\u001B[0mview1\u001B[0m\u001B[1;33m(\u001B[0m\u001B[1;33m)\u001B[0m\u001B[1;33m\u001B[0m\u001B[1;33m\u001B[0m\u001B[0m\n",
      "\u001B[1;31mKeyboardInterrupt\u001B[0m: "
     ]
    }
   ],
   "source": [
    "_ = dqn.test(env, nb_episodes=1, visualize=True)"
   ]
  },
  {
   "cell_type": "code",
   "execution_count": 33,
   "metadata": {
    "pycharm": {
     "name": "#%%\n"
    }
   },
   "outputs": [],
   "source": [
    "dqn.save_weights('dqn_weights.h5f', overwrite=True)"
   ]
  },
  {
   "cell_type": "code",
   "execution_count": 26,
   "metadata": {
    "pycharm": {
     "name": "#%%\n"
    }
   },
   "outputs": [],
   "source": [
    "dqn.load_weights('dqn_weights.h5f')"
   ]
  },
  {
   "cell_type": "code",
   "execution_count": 27,
   "metadata": {
    "pycharm": {
     "name": "#%%\n"
    }
   },
   "outputs": [],
   "source": [
    "dqn.save_weights('training_weights/collision 3 person ten parcel seven boulder directed.h5f', overwrite=True)"
   ]
  },
  {
   "cell_type": "code",
   "execution_count": 42,
   "metadata": {
    "pycharm": {
     "name": "#%%\n"
    }
   },
   "outputs": [],
   "source": [
    "dqn.load_weights('training_weights/collision 3 person ten parcel seven boulder directed.h5f')"
   ]
  },
  {
   "cell_type": "code",
   "execution_count": 23,
   "metadata": {
    "pycharm": {
     "name": "#%%\n"
    }
   },
   "outputs": [],
   "source": [
    "dqn.save_weights('dqn_weightsTemp.h5f', overwrite=True)"
   ]
  },
  {
   "cell_type": "code",
   "execution_count": 19,
   "metadata": {
    "pycharm": {
     "name": "#%%\n"
    }
   },
   "outputs": [],
   "source": [
    "dqn.load_weights('dqn_weightsTemp.h5f')"
   ]
  },
  {
   "cell_type": "code",
   "execution_count": 21,
   "metadata": {
    "pycharm": {
     "name": "#%%\n"
    }
   },
   "outputs": [],
   "source": [
    "dqn.save_weights('dqn_weightsTemp1.h5f', overwrite=True)"
   ]
  },
  {
   "cell_type": "code",
   "execution_count": 20,
   "metadata": {
    "pycharm": {
     "name": "#%%\n"
    }
   },
   "outputs": [],
   "source": [
    "dqn.load_weights('dqn_weightsTemp1.h5f')"
   ]
  },
  {
   "cell_type": "code",
   "execution_count": null,
   "metadata": {
    "pycharm": {
     "name": "#%%\n"
    }
   },
   "outputs": [],
   "source": []
  }
 ],
 "metadata": {
  "kernelspec": {
   "display_name": "Python 3 (ipykernel)",
   "language": "python",
   "name": "python3"
  },
  "language_info": {
   "codemirror_mode": {
    "name": "ipython",
    "version": 3
   },
   "file_extension": ".py",
   "mimetype": "text/x-python",
   "name": "python",
   "nbconvert_exporter": "python",
   "pygments_lexer": "ipython3",
   "version": "3.8.10"
  }
 },
 "nbformat": 4,
 "nbformat_minor": 1
}