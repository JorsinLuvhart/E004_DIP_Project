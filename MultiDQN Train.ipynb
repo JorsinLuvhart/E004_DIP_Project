{
 "cells": [
  {
   "cell_type": "code",
   "execution_count": 1,
   "metadata": {},
   "outputs": [],
   "source": [
    "from gym import Env\n",
    "from gym.spaces import Discrete, Box\n",
    "import numpy as np\n",
    "import random\n",
    "import tensorflow as tf\n",
    "from tensorflow.keras.models import Sequential\n",
    "from tensorflow.keras.layers import Dense, Flatten, Conv2D, Conv1D, Activation, MaxPooling2D, MaxPooling1D, Dropout\n",
    "from tensorflow.keras.optimizers import Adam\n",
    "import time"
   ]
  },
  {
   "cell_type": "code",
   "execution_count": 2,
   "metadata": {
    "pycharm": {
     "name": "#%%\n"
    }
   },
   "outputs": [
    {
     "name": "stdout",
     "output_type": "stream",
     "text": [
      "pygame 2.1.2 (SDL 2.0.16, Python 3.8.10)\n",
      "Hello from the pygame community. https://www.pygame.org/contribute.html\n",
      "Python version 3.8.10 (default, Nov 26 2021, 20:14:08) \n",
      "[GCC 9.3.0]\n"
     ]
    }
   ],
   "source": [
    "from pygameMultibot import GameWindow"
   ]
  },
  {
   "cell_type": "code",
   "execution_count": 3,
   "metadata": {
    "pycharm": {
     "name": "#%%\n"
    }
   },
   "outputs": [],
   "source": [
    "class Warehouse(Env):\n",
    "    #metadata = {'render.modes' : ['human']}\n",
    "    def __init__(self):\n",
    "        self.pygame = GameWindow(0,3)\n",
    "        self.action_space = Discrete(64)\n",
    "        self.observation_space = Box(low=0, high=6, shape=(11,11,2))\n",
    "\n",
    "    def reset(self):\n",
    "        del self.pygame\n",
    "        self.pygame = GameWindow(0,3)\n",
    "        obs = self.pygame.observe()\n",
    "        return obs\n",
    "\n",
    "    def step(self, action):\n",
    "        self.pygame.action(action)\n",
    "        obs = self.pygame.observe()\n",
    "        reward = self.pygame.evaluate()\n",
    "        done = self.pygame.is_done()\n",
    "        # print(obs)\n",
    "        return obs, reward, done, {}\n",
    "\n",
    "    def render(self, mode=\"human\", close=False):\n",
    "#         time.sleep(0.05)\n",
    "        self.pygame.view1()"
   ]
  },
  {
   "cell_type": "code",
   "execution_count": 4,
   "metadata": {
    "pycharm": {
     "name": "#%%\n"
    }
   },
   "outputs": [],
   "source": [
    "env = Warehouse()"
   ]
  },
  {
   "cell_type": "code",
   "execution_count": 5,
   "metadata": {
    "pycharm": {
     "name": "#%%\n"
    }
   },
   "outputs": [],
   "source": [
    "states = env.observation_space.shape\n",
    "actions = env.action_space.n"
   ]
  },
  {
   "cell_type": "code",
   "execution_count": 6,
   "metadata": {
    "pycharm": {
     "name": "#%%\n"
    }
   },
   "outputs": [
    {
     "data": {
      "text/plain": [
       "array([[[5.528211  , 2.7120852 ],\n",
       "        [2.0416236 , 5.897837  ],\n",
       "        [3.2325325 , 4.4592347 ],\n",
       "        [2.8037658 , 3.9484258 ],\n",
       "        [4.174781  , 5.2554154 ],\n",
       "        [1.4468397 , 3.6038167 ],\n",
       "        [5.3853016 , 5.0322666 ],\n",
       "        [5.824172  , 1.0838099 ],\n",
       "        [3.210542  , 0.00829318],\n",
       "        [4.9332533 , 1.6022402 ],\n",
       "        [2.1761384 , 2.8757365 ]],\n",
       "\n",
       "       [[2.2778568 , 2.718314  ],\n",
       "        [0.864502  , 5.1638656 ],\n",
       "        [2.3480248 , 4.864171  ],\n",
       "        [4.348325  , 1.4914045 ],\n",
       "        [0.7242826 , 1.4250048 ],\n",
       "        [1.4884032 , 1.9505359 ],\n",
       "        [4.4506693 , 1.6876997 ],\n",
       "        [0.2832982 , 3.0311847 ],\n",
       "        [1.3480563 , 0.5170131 ],\n",
       "        [0.8937338 , 0.17308237],\n",
       "        [2.657525  , 4.6981    ]],\n",
       "\n",
       "       [[1.5719843 , 0.02782865],\n",
       "        [4.1780925 , 3.2914183 ],\n",
       "        [4.6448436 , 1.0951991 ],\n",
       "        [4.747745  , 1.3294277 ],\n",
       "        [0.2593452 , 0.6669947 ],\n",
       "        [5.6168413 , 4.5335593 ],\n",
       "        [5.6027946 , 2.3946118 ],\n",
       "        [5.5491743 , 3.3606226 ],\n",
       "        [5.0285296 , 0.50752044],\n",
       "        [0.08451451, 4.3846126 ],\n",
       "        [2.79293   , 4.070629  ]],\n",
       "\n",
       "       [[5.1232567 , 4.538539  ],\n",
       "        [4.269673  , 5.172883  ],\n",
       "        [4.7012243 , 1.0069497 ],\n",
       "        [2.7036586 , 5.7901144 ],\n",
       "        [3.790175  , 5.666688  ],\n",
       "        [1.912508  , 4.031927  ],\n",
       "        [3.764351  , 5.6498685 ],\n",
       "        [3.231075  , 3.8194149 ],\n",
       "        [2.4734006 , 4.213748  ],\n",
       "        [5.436735  , 4.858613  ],\n",
       "        [2.3960917 , 3.5553262 ]],\n",
       "\n",
       "       [[5.4310827 , 5.6307516 ],\n",
       "        [1.0352291 , 0.34485662],\n",
       "        [5.4054055 , 5.228003  ],\n",
       "        [5.5762544 , 3.0048225 ],\n",
       "        [0.28263426, 2.8450239 ],\n",
       "        [5.719363  , 5.944452  ],\n",
       "        [2.5214262 , 2.7780473 ],\n",
       "        [3.7213583 , 5.6730533 ],\n",
       "        [0.15603669, 2.8915045 ],\n",
       "        [1.8356384 , 3.6655376 ],\n",
       "        [2.3010826 , 1.8945897 ]],\n",
       "\n",
       "       [[0.7090345 , 5.940715  ],\n",
       "        [5.527654  , 3.5612829 ],\n",
       "        [2.859262  , 0.43420085],\n",
       "        [3.8845854 , 4.4276853 ],\n",
       "        [2.2527032 , 1.990059  ],\n",
       "        [5.8558016 , 5.422898  ],\n",
       "        [0.4123264 , 1.8562888 ],\n",
       "        [1.8982345 , 5.9695773 ],\n",
       "        [3.0078073 , 3.5994148 ],\n",
       "        [0.77307314, 5.0963006 ],\n",
       "        [5.1443224 , 5.225512  ]],\n",
       "\n",
       "       [[5.65455   , 1.5968747 ],\n",
       "        [2.3248653 , 3.9168782 ],\n",
       "        [3.502513  , 2.1928027 ],\n",
       "        [2.1590512 , 4.876814  ],\n",
       "        [1.7247753 , 5.4808984 ],\n",
       "        [5.634455  , 2.2089057 ],\n",
       "        [3.9398496 , 5.0251913 ],\n",
       "        [4.515625  , 0.09845498],\n",
       "        [3.7352047 , 5.2343693 ],\n",
       "        [2.259107  , 2.4714372 ],\n",
       "        [5.2723794 , 2.6351886 ]],\n",
       "\n",
       "       [[2.371034  , 4.877802  ],\n",
       "        [5.986855  , 3.7773247 ],\n",
       "        [2.9094653 , 5.0494194 ],\n",
       "        [0.32320976, 3.6648324 ],\n",
       "        [4.544372  , 5.0439897 ],\n",
       "        [1.6371903 , 3.8377464 ],\n",
       "        [3.6128488 , 5.2605457 ],\n",
       "        [4.622384  , 3.3313496 ],\n",
       "        [5.9006133 , 3.795538  ],\n",
       "        [2.076807  , 1.1260408 ],\n",
       "        [5.0807147 , 5.9301653 ]],\n",
       "\n",
       "       [[1.0617232 , 5.0537996 ],\n",
       "        [3.1793258 , 4.7896028 ],\n",
       "        [2.8998632 , 1.3052387 ],\n",
       "        [2.2025452 , 5.0902004 ],\n",
       "        [3.4197328 , 3.1723628 ],\n",
       "        [1.3011683 , 0.7197735 ],\n",
       "        [0.11237488, 3.251471  ],\n",
       "        [0.69895786, 0.33201748],\n",
       "        [4.1621714 , 1.832198  ],\n",
       "        [4.3535624 , 4.521965  ],\n",
       "        [1.818104  , 1.0296648 ]],\n",
       "\n",
       "       [[1.5991039 , 2.275362  ],\n",
       "        [5.4386086 , 5.152769  ],\n",
       "        [4.268523  , 2.2080982 ],\n",
       "        [0.3906351 , 0.14845064],\n",
       "        [5.232328  , 2.9737272 ],\n",
       "        [1.8772904 , 1.0708648 ],\n",
       "        [0.14335121, 3.050075  ],\n",
       "        [3.4410076 , 5.9786253 ],\n",
       "        [0.6547606 , 3.0394843 ],\n",
       "        [5.616496  , 1.7642896 ],\n",
       "        [0.04423885, 1.4908141 ]],\n",
       "\n",
       "       [[0.44846845, 2.5357022 ],\n",
       "        [4.68517   , 4.854139  ],\n",
       "        [3.4515119 , 2.6173728 ],\n",
       "        [4.315743  , 5.359696  ],\n",
       "        [5.4973783 , 0.3790243 ],\n",
       "        [5.466116  , 1.4275831 ],\n",
       "        [5.9547925 , 0.2605344 ],\n",
       "        [5.2704115 , 3.0748248 ],\n",
       "        [2.8157105 , 2.203722  ],\n",
       "        [1.476091  , 3.9170356 ],\n",
       "        [1.1950544 , 2.2107797 ]]], dtype=float32)"
      ]
     },
     "execution_count": 6,
     "metadata": {},
     "output_type": "execute_result"
    }
   ],
   "source": [
    "env.observation_space.sample()"
   ]
  },
  {
   "cell_type": "code",
   "execution_count": 7,
   "metadata": {
    "pycharm": {
     "name": "#%%\n"
    }
   },
   "outputs": [],
   "source": [
    "def build_model():\n",
    "    model = Sequential()\n",
    "    model.add(tf.keras.layers.Reshape((11,11,2), input_shape=(1,11,11,2)))\n",
    "    model.add(Conv2D(32, (3,3),strides=(1, 1),activation='relu'))  # OBSERVATION_SPACE_VALUES = (10, 10, 3) a 10x10 RGB image.\n",
    "    # model.add(Activation('relu'))\n",
    "    # model.add(MaxPooling2D(pool_size=(2,2)))\n",
    "    # model.add(Dropout(0.2))\n",
    "\n",
    "    model.add(Conv2D(64, (3,3),strides=(1, 1),activation='relu'))\n",
    "    model.add(Conv2D(64, (3,3),strides=(1, 1),activation='relu'))\n",
    "    # model.add(Activation('relu'))\n",
    "    # model.add(MaxPooling2D(pool_size=(2,2)))\n",
    "    # model.add(Dropout(0.2))\n",
    "\n",
    "    model.add(Flatten())  # this converts our 3D feature maps to 1D feature vectors\n",
    "    model.add(Dense(512,activation='relu'))\n",
    "\n",
    "    model.add(Dense(actions, activation='linear'))  # ACTION_SPACE_SIZE = how many choices (9)\n",
    "    return model"
   ]
  },
  {
   "cell_type": "code",
   "execution_count": 13,
   "metadata": {
    "pycharm": {
     "name": "#%%\n"
    }
   },
   "outputs": [],
   "source": [
    "del model"
   ]
  },
  {
   "cell_type": "code",
   "execution_count": 14,
   "metadata": {
    "pycharm": {
     "name": "#%%\n"
    }
   },
   "outputs": [],
   "source": [
    "model = build_model()"
   ]
  },
  {
   "cell_type": "code",
   "execution_count": 15,
   "metadata": {
    "pycharm": {
     "name": "#%%\n"
    }
   },
   "outputs": [
    {
     "name": "stdout",
     "output_type": "stream",
     "text": [
      "Model: \"sequential_1\"\n",
      "_________________________________________________________________\n",
      "Layer (type)                 Output Shape              Param #   \n",
      "=================================================================\n",
      "reshape_1 (Reshape)          (None, 11, 11, 2)         0         \n",
      "_________________________________________________________________\n",
      "conv2d_3 (Conv2D)            (None, 9, 9, 32)          608       \n",
      "_________________________________________________________________\n",
      "conv2d_4 (Conv2D)            (None, 7, 7, 64)          18496     \n",
      "_________________________________________________________________\n",
      "conv2d_5 (Conv2D)            (None, 5, 5, 64)          36928     \n",
      "_________________________________________________________________\n",
      "flatten_1 (Flatten)          (None, 1600)              0         \n",
      "_________________________________________________________________\n",
      "dense_2 (Dense)              (None, 512)               819712    \n",
      "_________________________________________________________________\n",
      "dense_3 (Dense)              (None, 64)                32832     \n",
      "=================================================================\n",
      "Total params: 908,576\n",
      "Trainable params: 908,576\n",
      "Non-trainable params: 0\n",
      "_________________________________________________________________\n"
     ]
    }
   ],
   "source": [
    "model.summary()"
   ]
  },
  {
   "cell_type": "code",
   "execution_count": 16,
   "metadata": {
    "pycharm": {
     "name": "#%%\n"
    }
   },
   "outputs": [],
   "source": [
    "from rl.agents import DQNAgent\n",
    "from rl.policy import BoltzmannQPolicy\n",
    "from rl.memory import SequentialMemory\n",
    "from rl.policy import LinearAnnealedPolicy, EpsGreedyQPolicy"
   ]
  },
  {
   "cell_type": "code",
   "execution_count": 17,
   "metadata": {
    "pycharm": {
     "name": "#%%\n"
    }
   },
   "outputs": [],
   "source": [
    "def build_agent(model, actions):\n",
    "#     policy = EpsGreedyQPolicy()\n",
    "    policy = LinearAnnealedPolicy(EpsGreedyQPolicy(), attr='eps', value_max=1., value_min=.1, value_test=.2, nb_steps=10000)\n",
    "    memory = SequentialMemory(limit=500000, window_length=1)\n",
    "    dqn = DQNAgent(model=model, memory=memory, policy=policy,\n",
    "                  nb_actions=actions, nb_steps_warmup=10000, target_model_update=1e-2, enable_double_dqn=True)\n",
    "    return dqn"
   ]
  },
  {
   "cell_type": "code",
   "execution_count": 18,
   "metadata": {
    "pycharm": {
     "name": "#%%\n"
    }
   },
   "outputs": [
    {
     "name": "stderr",
     "output_type": "stream",
     "text": [
      "2022-03-16 15:07:07.893180: I tensorflow/stream_executor/cuda/cuda_gpu_executor.cc:937] successful NUMA node read from SysFS had negative value (-1), but there must be at least one NUMA node, so returning NUMA node zero\n",
      "2022-03-16 15:07:07.893499: I tensorflow/stream_executor/cuda/cuda_gpu_executor.cc:937] successful NUMA node read from SysFS had negative value (-1), but there must be at least one NUMA node, so returning NUMA node zero\n",
      "2022-03-16 15:07:07.893722: I tensorflow/stream_executor/cuda/cuda_gpu_executor.cc:937] successful NUMA node read from SysFS had negative value (-1), but there must be at least one NUMA node, so returning NUMA node zero\n",
      "2022-03-16 15:07:07.893994: I tensorflow/stream_executor/cuda/cuda_gpu_executor.cc:937] successful NUMA node read from SysFS had negative value (-1), but there must be at least one NUMA node, so returning NUMA node zero\n",
      "2022-03-16 15:07:07.894214: I tensorflow/stream_executor/cuda/cuda_gpu_executor.cc:937] successful NUMA node read from SysFS had negative value (-1), but there must be at least one NUMA node, so returning NUMA node zero\n",
      "2022-03-16 15:07:07.894392: I tensorflow/core/common_runtime/gpu/gpu_device.cc:1510] Created device /job:localhost/replica:0/task:0/device:GPU:0 with 4253 MB memory:  -> device: 0, name: NVIDIA GeForce RTX 2060, pci bus id: 0000:01:00.0, compute capability: 7.5\n"
     ]
    }
   ],
   "source": [
    "dqn = build_agent(model, actions)\n",
    "dqn.compile(Adam(lr=0.001), metrics=['mae'])"
   ]
  },
  {
   "cell_type": "markdown",
   "metadata": {},
   "source": []
  },
  {
   "cell_type": "code",
   "execution_count": null,
   "metadata": {
    "pycharm": {
     "name": "#%%\n"
    },
    "scrolled": false
   },
   "outputs": [
    {
     "name": "stdout",
     "output_type": "stream",
     "text": [
      "Training for 1000000 steps ...\n",
      "Interval 1 (0 steps performed)\n"
     ]
    },
    {
     "name": "stderr",
     "output_type": "stream",
     "text": [
      "/home/windpeh/.cache/pypoetry/virtualenvs/e004dipproject-4aAxvmzB-py3.8/lib/python3.8/site-packages/keras/engine/training.py:2470: UserWarning: `Model.state_updates` will be removed in a future version. This property should not be used in TensorFlow 2.0, as `updates` are applied automatically.\n",
      "  warnings.warn('`Model.state_updates` will be removed in a future version. '\n",
      "2022-03-16 15:07:44.806799: I tensorflow/stream_executor/cuda/cuda_dnn.cc:369] Loaded cuDNN version 8100\n"
     ]
    },
    {
     "name": "stdout",
     "output_type": "stream",
     "text": [
      "10000/10000 [==============================] - 74s 7ms/step - reward: -0.4378\n",
      "10 episodes - episode_reward: -437.829 [-822.245, -164.530]\n",
      "\n",
      "Interval 2 (10000 steps performed)\n",
      "10000/10000 [==============================] - 216s 22ms/step - reward: -0.2667\n",
      "10 episodes - episode_reward: -266.747 [-464.480, -124.120] - loss: 0.258 - mae: 11.590 - mean_q: 12.701 - mean_eps: 0.100\n",
      "\n",
      "Interval 3 (20000 steps performed)\n",
      "10000/10000 [==============================] - 220s 22ms/step - reward: -0.4634\n",
      "10 episodes - episode_reward: -463.429 [-893.790, -173.715] - loss: 0.297 - mae: 11.277 - mean_q: 12.628 - mean_eps: 0.100\n",
      "\n",
      "Interval 4 (30000 steps performed)\n",
      "10000/10000 [==============================] - 225s 22ms/step - reward: -0.8116\n",
      "10 episodes - episode_reward: -811.631 [-990.275, -692.810] - loss: 0.753 - mae: 21.600 - mean_q: 23.632 - mean_eps: 0.100\n",
      "\n",
      "Interval 5 (40000 steps performed)\n",
      "10000/10000 [==============================] - 226s 23ms/step - reward: -0.5743\n",
      "10 episodes - episode_reward: -574.347 [-783.870, -276.165] - loss: 1.257 - mae: 35.379 - mean_q: 37.897 - mean_eps: 0.100\n",
      "\n",
      "Interval 6 (50000 steps performed)\n",
      " 1319/10000 [==>...........................] - ETA: 3:14 - reward: -0.5683"
     ]
    }
   ],
   "source": [
    "dqn.compile(Adam(lr=0.00007), metrics=['mae'])\n",
    "history=dqn.fit(env, nb_steps=1000000, visualize=True, verbose=1)"
   ]
  },
  {
   "cell_type": "code",
   "execution_count": 38,
   "metadata": {
    "pycharm": {
     "name": "#%%\n"
    }
   },
   "outputs": [
    {
     "name": "stdout",
     "output_type": "stream",
     "text": [
      "Testing for 1 episodes ...\n",
      "Episode 1: reward: 87.100, steps: 1000\n"
     ]
    }
   ],
   "source": [
    "_ = dqn.test(env, nb_episodes=1, visualize=True)"
   ]
  },
  {
   "cell_type": "code",
   "execution_count": 33,
   "metadata": {
    "pycharm": {
     "name": "#%%\n"
    }
   },
   "outputs": [],
   "source": [
    "dqn.save_weights('dqn_weights.h5f', overwrite=True)"
   ]
  },
  {
   "cell_type": "code",
   "execution_count": 26,
   "metadata": {
    "pycharm": {
     "name": "#%%\n"
    }
   },
   "outputs": [],
   "source": [
    "dqn.load_weights('dqn_weights.h5f')"
   ]
  },
  {
   "cell_type": "code",
   "execution_count": 25,
   "metadata": {
    "pycharm": {
     "name": "#%%\n"
    }
   },
   "outputs": [],
   "source": [
    "dqn.save_weights('dqn_weightsCNN.h5f', overwrite=True)"
   ]
  },
  {
   "cell_type": "code",
   "execution_count": 19,
   "metadata": {
    "pycharm": {
     "name": "#%%\n"
    }
   },
   "outputs": [],
   "source": [
    "dqn.load_weights('training_weights/five parcel2.h5f')"
   ]
  },
  {
   "cell_type": "code",
   "execution_count": 23,
   "metadata": {
    "pycharm": {
     "name": "#%%\n"
    }
   },
   "outputs": [],
   "source": [
    "dqn.save_weights('dqn_weightsTemp.h5f', overwrite=True)"
   ]
  },
  {
   "cell_type": "code",
   "execution_count": 19,
   "metadata": {
    "pycharm": {
     "name": "#%%\n"
    }
   },
   "outputs": [],
   "source": [
    "dqn.load_weights('dqn_weightsTemp.h5f')"
   ]
  },
  {
   "cell_type": "code",
   "execution_count": 23,
   "metadata": {
    "pycharm": {
     "name": "#%%\n"
    }
   },
   "outputs": [],
   "source": [
    "dqn.save_weights('dqn_weightsTemp1.h5f', overwrite=True)"
   ]
  },
  {
   "cell_type": "code",
   "execution_count": 20,
   "metadata": {
    "pycharm": {
     "name": "#%%\n"
    }
   },
   "outputs": [],
   "source": [
    "dqn.load_weights('dqn_weightsTemp1.h5f')"
   ]
  },
  {
   "cell_type": "code",
   "execution_count": null,
   "metadata": {
    "pycharm": {
     "name": "#%%\n"
    }
   },
   "outputs": [],
   "source": []
  }
 ],
 "metadata": {
  "kernelspec": {
   "display_name": "Python 3 (ipykernel)",
   "language": "python",
   "name": "python3"
  },
  "language_info": {
   "codemirror_mode": {
    "name": "ipython",
    "version": 3
   },
   "file_extension": ".py",
   "mimetype": "text/x-python",
   "name": "python",
   "nbconvert_exporter": "python",
   "pygments_lexer": "ipython3",
   "version": "3.8.10"
  }
 },
 "nbformat": 4,
 "nbformat_minor": 1
}